{
 "cells": [
  {
   "cell_type": "code",
   "execution_count": 1,
   "id": "5af9cee2",
   "metadata": {},
   "outputs": [],
   "source": [
    "from googleapiclient.discovery import build\n",
    "\n",
    "import base64\n",
    "\n",
    "from auth import authenticate"
   ]
  },
  {
   "cell_type": "code",
   "execution_count": 2,
   "id": "8697c9f7",
   "metadata": {},
   "outputs": [],
   "source": [
    "creds = authenticate()\n",
    "service = build(\"gmail\", \"v1\", credentials=creds)"
   ]
  },
  {
   "cell_type": "code",
   "execution_count": 3,
   "id": "e2f5d1d6",
   "metadata": {},
   "outputs": [
    {
     "name": "stdout",
     "output_type": "stream",
     "text": [
      "CHAT : CHAT\n",
      "SENT : SENT\n",
      "INBOX : INBOX\n",
      "IMPORTANT : IMPORTANT\n",
      "TRASH : TRASH\n",
      "DRAFT : DRAFT\n",
      "SPAM : SPAM\n",
      "CATEGORY_FORUMS : CATEGORY_FORUMS\n",
      "CATEGORY_UPDATES : CATEGORY_UPDATES\n",
      "CATEGORY_PERSONAL : CATEGORY_PERSONAL\n",
      "CATEGORY_PROMOTIONS : CATEGORY_PROMOTIONS\n",
      "CATEGORY_SOCIAL : CATEGORY_SOCIAL\n",
      "YELLOW_STAR : YELLOW_STAR\n",
      "STARRED : STARRED\n",
      "UNREAD : UNREAD\n",
      "1 Newsletter : Label_1936717127619429722\n",
      "3 Accounts : Label_2\n",
      "2 Solaranlage : Label_231893078114603930\n",
      "0 anstehend : Label_4\n",
      "1 Newsletter/DAV : Label_5854881578468626105\n",
      "1 Newsletter/ADFC : Label_6489537413340341089\n",
      "1 Newsletter/Sustainability by numbers : Label_7363869815753517727\n",
      "Abnahme Mary & Abe : Label_8744948545988280091\n"
     ]
    }
   ],
   "source": [
    "labels = service.users().labels().list(userId=\"me\").execute()\n",
    "\n",
    "for label in labels['labels']:\n",
    "    print(f\"{label['name']} : {label['id']}\")"
   ]
  },
  {
   "cell_type": "code",
   "execution_count": 4,
   "id": "ca57757a",
   "metadata": {},
   "outputs": [
    {
     "name": "stdout",
     "output_type": "stream",
     "text": [
      "11 messages found\n"
     ]
    }
   ],
   "source": [
    "ids = ( service.users().messages()\n",
    "    .list(userId=\"me\", labelIds=[\"Label_231893078114603930\"]).execute() )\n",
    "ids = [msg['id'] for msg in ids['messages']]\n",
    "\n",
    "print(f\"{len(ids)} messages found\")"
   ]
  },
  {
   "cell_type": "code",
   "execution_count": 5,
   "id": "ae8a9ddc",
   "metadata": {},
   "outputs": [],
   "source": [
    "# https://stackoverflow.com/questions/25832631/download-attachments-from-gmail-using-gmail-api\n",
    "\n",
    "def DownloadAttachments(service, msg_id):\n",
    "    \"\"\"Get and store attachment from Message with given id. \"\"\"\n",
    "    message = service.users().messages().get(userId=\"me\", id=msg_id).execute()\n",
    "\n",
    "    for part in message['payload']['parts']:\n",
    "        if part['filename']:\n",
    "            if 'data' in part['body']:\n",
    "                data = part['body']['data']\n",
    "            else:\n",
    "                att_id = part['body']['attachmentId']\n",
    "                att = service.users().messages().attachments().get(userId=\"me\", messageId=msg_id,id=att_id).execute()\n",
    "                data = att['data']\n",
    "            file_data = base64.urlsafe_b64decode(data.encode('UTF-8'))\n",
    "            path = './data/' + part['filename']\n",
    "\n",
    "            with open(path, 'wb') as f:\n",
    "                f.write(file_data)"
   ]
  },
  {
   "cell_type": "code",
   "execution_count": 8,
   "id": "448045d5",
   "metadata": {},
   "outputs": [],
   "source": [
    "for id in ids:\n",
    "# id = ids[-1]\n",
    "\n",
    "    DownloadAttachments(service, id)\n",
    "# service.users().messages().trash(userId=\"me\", id=id).execute()"
   ]
  }
 ],
 "metadata": {
  "kernelspec": {
   "display_name": "Python 3",
   "language": "python",
   "name": "python3"
  },
  "language_info": {
   "codemirror_mode": {
    "name": "ipython",
    "version": 3
   },
   "file_extension": ".py",
   "mimetype": "text/x-python",
   "name": "python",
   "nbconvert_exporter": "python",
   "pygments_lexer": "ipython3",
   "version": "3.13.2"
  }
 },
 "nbformat": 4,
 "nbformat_minor": 5
}
