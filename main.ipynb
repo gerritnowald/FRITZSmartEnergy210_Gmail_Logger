{
 "cells": [
  {
   "cell_type": "code",
   "execution_count": null,
   "id": "af6f1e1e",
   "metadata": {},
   "outputs": [],
   "source": [
    "from client import GmailApi"
   ]
  },
  {
   "cell_type": "code",
   "execution_count": null,
   "id": "df781b6c",
   "metadata": {},
   "outputs": [],
   "source": [
    "client = GmailApi()"
   ]
  },
  {
   "cell_type": "code",
   "execution_count": null,
   "id": "bdf8bc87",
   "metadata": {},
   "outputs": [],
   "source": [
    "client.list_labels()"
   ]
  },
  {
   "cell_type": "code",
   "execution_count": null,
   "id": "5221f534",
   "metadata": {},
   "outputs": [],
   "source": [
    "sender = \"hannahritchie@substack.com\"    # either email or sender name\n",
    "emails = client.find_emails(sender)\n",
    "email_ids = [email[\"id\"] for email in emails]"
   ]
  },
  {
   "cell_type": "code",
   "execution_count": null,
   "id": "5feb57e5",
   "metadata": {},
   "outputs": [],
   "source": [
    "contents = [client.get_email(email_id) for email_id in email_ids]\n",
    "print(f\"Content of the emails matching sender '{sender}':\")\n",
    "for content in contents:\n",
    "    print(content)"
   ]
  }
 ],
 "metadata": {
  "kernelspec": {
   "display_name": "Python 3",
   "language": "python",
   "name": "python3"
  },
  "language_info": {
   "name": "python",
   "version": "3.13.2"
  }
 },
 "nbformat": 4,
 "nbformat_minor": 5
}
