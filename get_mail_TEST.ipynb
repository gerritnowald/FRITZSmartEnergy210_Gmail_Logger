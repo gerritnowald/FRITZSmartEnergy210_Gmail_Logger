{
 "cells": [
  {
   "cell_type": "code",
   "execution_count": 1,
   "id": "5af9cee2",
   "metadata": {},
   "outputs": [],
   "source": [
    "from googleapiclient.discovery import build\n",
    "\n",
    "import base64\n",
    "\n",
    "from authentication.auth import authenticate"
   ]
  },
  {
   "cell_type": "code",
   "execution_count": 2,
   "id": "2b778b55",
   "metadata": {},
   "outputs": [],
   "source": [
    "label_id = \"Label_231893078114603930\""
   ]
  },
  {
   "cell_type": "code",
   "execution_count": 3,
   "id": "8697c9f7",
   "metadata": {},
   "outputs": [],
   "source": [
    "creds = authenticate()\n",
    "service = build(\"gmail\", \"v1\", credentials=creds)"
   ]
  },
  {
   "cell_type": "code",
   "execution_count": 4,
   "id": "ca57757a",
   "metadata": {},
   "outputs": [
    {
     "name": "stdout",
     "output_type": "stream",
     "text": [
      "12 messages found\n"
     ]
    }
   ],
   "source": [
    "msg_ids = ( service.users().messages()\n",
    "    .list(userId=\"me\", labelIds=[label_id]).execute() )\n",
    "msg_ids = [msg['id'] for msg in msg_ids['messages']]\n",
    "\n",
    "print(f\"{len(msg_ids)} messages found\")"
   ]
  },
  {
   "cell_type": "code",
   "execution_count": 5,
   "id": "afe0ae64",
   "metadata": {},
   "outputs": [],
   "source": [
    "id = msg_ids[0]\n",
    "\n",
    "message = service.users().messages().get(userId=\"me\", id=id).execute()\n",
    "\n",
    "# message"
   ]
  },
  {
   "cell_type": "code",
   "execution_count": 6,
   "id": "ae8a9ddc",
   "metadata": {},
   "outputs": [],
   "source": [
    "# https://stackoverflow.com/questions/25832631/download-attachments-from-gmail-using-gmail-api\n",
    "\n",
    "# def DownloadAttachments(service, msg_id):\n",
    "#     \"\"\"Get and store attachment from Message with given id. \"\"\"\n",
    "#     message = service.users().messages().get(userId=\"me\", id=msg_id).execute()\n",
    "\n",
    "#     for part in message['payload']['parts']:\n",
    "#         if part['filename']:\n",
    "#             if 'data' in part['body']:\n",
    "#                 data = part['body']['data']\n",
    "#             else:\n",
    "#                 att_id = part['body']['attachmentId']\n",
    "#                 att = service.users().messages().attachments().get(userId=\"me\", messageId=msg_id,id=att_id).execute()\n",
    "#                 data = att['data']\n",
    "#             file_data = base64.urlsafe_b64decode(data.encode('UTF-8'))\n",
    "#             path = './data/' + part['filename']\n",
    "\n",
    "#             with open(path, 'wb') as f:\n",
    "#                 f.write(file_data)"
   ]
  }
 ],
 "metadata": {
  "kernelspec": {
   "display_name": "Python 3",
   "language": "python",
   "name": "python3"
  },
  "language_info": {
   "codemirror_mode": {
    "name": "ipython",
    "version": 3
   },
   "file_extension": ".py",
   "mimetype": "text/x-python",
   "name": "python",
   "nbconvert_exporter": "python",
   "pygments_lexer": "ipython3",
   "version": "3.13.2"
  }
 },
 "nbformat": 4,
 "nbformat_minor": 5
}
