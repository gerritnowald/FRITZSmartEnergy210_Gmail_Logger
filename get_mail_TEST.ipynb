{
 "cells": [
  {
   "cell_type": "code",
   "execution_count": 1,
   "id": "5af9cee2",
   "metadata": {},
   "outputs": [],
   "source": [
    "from googleapiclient.discovery import build\n",
    "\n",
    "import base64\n",
    "\n",
    "from authentication.auth import authenticate"
   ]
  },
  {
   "cell_type": "code",
   "execution_count": 2,
   "id": "2b778b55",
   "metadata": {},
   "outputs": [],
   "source": [
    "label_id = \"Label_231893078114603930\""
   ]
  },
  {
   "cell_type": "code",
   "execution_count": 4,
   "id": "8697c9f7",
   "metadata": {},
   "outputs": [
    {
     "name": "stdout",
     "output_type": "stream",
     "text": [
      "Please visit this URL to authorize this application: https://accounts.google.com/o/oauth2/auth?response_type=code&client_id=189037393818-1ia8oeadas1fvfjci0qlnno1c0pn0uoe.apps.googleusercontent.com&redirect_uri=http%3A%2F%2Flocalhost%3A64628%2F&scope=https%3A%2F%2Fwww.googleapis.com%2Fauth%2Fgmail.modify&state=vzyhS8dTNtnCFQRx479NxhfRYRwsjG&access_type=offline\n"
     ]
    }
   ],
   "source": [
    "creds = authenticate()\n",
    "service = build(\"gmail\", \"v1\", credentials=creds)"
   ]
  },
  {
   "cell_type": "code",
   "execution_count": 5,
   "id": "ca57757a",
   "metadata": {},
   "outputs": [
    {
     "name": "stdout",
     "output_type": "stream",
     "text": [
      "19 messages found\n"
     ]
    }
   ],
   "source": [
    "msg_ids = ( service.users().messages()\n",
    "    .list(userId=\"me\", labelIds=[label_id]).execute() )\n",
    "msg_ids = [msg['id'] for msg in msg_ids['messages']]\n",
    "\n",
    "print(f\"{len(msg_ids)} messages found\")"
   ]
  },
  {
   "cell_type": "code",
   "execution_count": 74,
   "id": "afe0ae64",
   "metadata": {},
   "outputs": [],
   "source": [
    "id = msg_ids[0]\n",
    "\n",
    "message = service.users().messages().get(userId=\"me\", id=id).execute()"
   ]
  },
  {
   "cell_type": "code",
   "execution_count": 79,
   "id": "02947f4b",
   "metadata": {},
   "outputs": [],
   "source": [
    "# for header in message['payload']['headers']:\n",
    "#     if header['name'] == 'Subject':\n",
    "#         print(header['value'])\n",
    "\n",
    "\n",
    "msg_id = id\n",
    "\n",
    "\n",
    "att_id = message['payload']['parts'][0]['parts'][2]['body']['attachmentId']\n",
    "att = service.users().messages().attachments().get(userId=\"me\", messageId=msg_id,id=att_id).execute()\n",
    "file_data = base64.urlsafe_b64decode(att['data'].encode('UTF-8'))\n",
    "with open('test.png', 'wb') as f:\n",
    "    f.write(file_data)"
   ]
  }
 ],
 "metadata": {
  "kernelspec": {
   "display_name": "Python 3",
   "language": "python",
   "name": "python3"
  },
  "language_info": {
   "codemirror_mode": {
    "name": "ipython",
    "version": 3
   },
   "file_extension": ".py",
   "mimetype": "text/x-python",
   "name": "python",
   "nbconvert_exporter": "python",
   "pygments_lexer": "ipython3",
   "version": "3.13.2"
  }
 },
 "nbformat": 4,
 "nbformat_minor": 5
}
