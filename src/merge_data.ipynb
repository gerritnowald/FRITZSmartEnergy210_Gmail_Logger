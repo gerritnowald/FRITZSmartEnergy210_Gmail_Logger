{
 "cells": [
  {
   "cell_type": "code",
   "execution_count": null,
   "id": "4a79ec26",
   "metadata": {},
   "outputs": [],
   "source": [
    "import glob\n",
    "from send2trash import send2trash\n",
    "\n",
    "import pandas as pd\n",
    "\n",
    "files = sorted(glob.glob('.\\\\data\\\\*.csv'))\n",
    "\n",
    "files = [file for file in files if file != '.\\\\data\\\\merged_data.csv']"
   ]
  },
  {
   "cell_type": "code",
   "execution_count": null,
   "id": "27b7c86f",
   "metadata": {},
   "outputs": [],
   "source": [
    "# process data files for individual days\n",
    "dataframes = []\n",
    "for file in files:\n",
    "    data = pd.read_csv(file)\n",
    "    \n",
    "    # Combine 'Date' from filename and 'Time' column into a single datetime column\n",
    "    data['Time'] = pd.to_datetime(file[-12:-4] + data['Time'], format='%Y%m%d%H:%M', errors='coerce')\n",
    "    \n",
    "    dataframes.append(data)\n",
    "\n",
    "    # send2trash(file)\n",
    "    # print(f\"Moved to trash: {file}\")\n",
    "\n",
    "# concatenate all CSV files\n",
    "df = pd.concat(dataframes, ignore_index=True)\n",
    "# df.to_csv('.\\\\data\\\\merged_data.csv', index=False)\n",
    "\n",
    "\n",
    "# merge with existing data\n",
    "# dataset = pd.read_csv('.\\\\data\\\\merged_data.csv')\n",
    "# dataset['Time'] = pd.to_datetime(dataset['Time'])\n",
    "\n",
    "# dataset = dataset.merge(df, on='Time', how='outer')\n",
    "\n",
    "# dataset.to_csv('.\\\\data\\\\merged_data.csv', index=False)"
   ]
  }
 ],
 "metadata": {
  "kernelspec": {
   "display_name": "Python 3",
   "language": "python",
   "name": "python3"
  },
  "language_info": {
   "codemirror_mode": {
    "name": "ipython",
    "version": 3
   },
   "file_extension": ".py",
   "mimetype": "text/x-python",
   "name": "python",
   "nbconvert_exporter": "python",
   "pygments_lexer": "ipython3",
   "version": "3.13.2"
  }
 },
 "nbformat": 4,
 "nbformat_minor": 5
}
