{
 "cells": [
  {
   "cell_type": "code",
   "execution_count": 24,
   "id": "234b738f",
   "metadata": {},
   "outputs": [],
   "source": [
    "import glob\n",
    "import pandas as pd\n",
    "from send2trash import send2trash"
   ]
  },
  {
   "cell_type": "code",
   "execution_count": null,
   "id": "2c824a9f",
   "metadata": {},
   "outputs": [],
   "source": [
    "files = glob.glob('.\\\\attachments\\\\*.csv')\n",
    "\n",
    "data = []\n",
    "for file in files:\n",
    "    name = file.split('_')\n",
    "    data.append({'date': name[0][-8:], 'time': name[1]})\n",
    "\n",
    "df = pd.DataFrame(data)"
   ]
  },
  {
   "cell_type": "code",
   "execution_count": 26,
   "id": "23b3aa43",
   "metadata": {},
   "outputs": [
    {
     "data": {
      "text/html": [
       "<div>\n",
       "<style scoped>\n",
       "    .dataframe tbody tr th:only-of-type {\n",
       "        vertical-align: middle;\n",
       "    }\n",
       "\n",
       "    .dataframe tbody tr th {\n",
       "        vertical-align: top;\n",
       "    }\n",
       "\n",
       "    .dataframe thead th {\n",
       "        text-align: right;\n",
       "    }\n",
       "</style>\n",
       "<table border=\"1\" class=\"dataframe\">\n",
       "  <thead>\n",
       "    <tr style=\"text-align: right;\">\n",
       "      <th></th>\n",
       "      <th>date</th>\n",
       "      <th>time</th>\n",
       "    </tr>\n",
       "  </thead>\n",
       "  <tbody>\n",
       "    <tr>\n",
       "      <th>71</th>\n",
       "      <td>20250826</td>\n",
       "      <td>215901</td>\n",
       "    </tr>\n",
       "  </tbody>\n",
       "</table>\n",
       "</div>"
      ],
      "text/plain": [
       "        date    time\n",
       "71  20250826  215901"
      ]
     },
     "execution_count": 26,
     "metadata": {},
     "output_type": "execute_result"
    }
   ],
   "source": [
    "# Find dates that appear more than once\n",
    "duplicate_dates = df['date'][df['date'].duplicated(keep=False)]\n",
    "\n",
    "# Filter DataFrame to only rows with duplicate dates\n",
    "df_duplicates = df[df['date'].isin(duplicate_dates.unique())]\n",
    "\n",
    "# For each duplicate date, keep only the row with the earliest time\n",
    "df_earliest = df_duplicates.sort_values(['date', 'time']).drop_duplicates('date', keep='first')\n",
    "\n",
    "df_earliest"
   ]
  },
  {
   "cell_type": "code",
   "execution_count": null,
   "id": "b34023ef",
   "metadata": {},
   "outputs": [],
   "source": [
    "for _, row in df_earliest.iterrows():\n",
    "    files = glob.glob(f'.\\\\data\\\\*{row['date']}_{row['time']}*')\n",
    "    for file in files:\n",
    "        send2trash(file)\n",
    "        print(f'Moved to trash: {file}')"
   ]
  }
 ],
 "metadata": {
  "kernelspec": {
   "display_name": "Python 3",
   "language": "python",
   "name": "python3"
  },
  "language_info": {
   "codemirror_mode": {
    "name": "ipython",
    "version": 3
   },
   "file_extension": ".py",
   "mimetype": "text/x-python",
   "name": "python",
   "nbconvert_exporter": "python",
   "pygments_lexer": "ipython3",
   "version": "3.13.2"
  }
 },
 "nbformat": 4,
 "nbformat_minor": 5
}
